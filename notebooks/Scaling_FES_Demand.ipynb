{
 "cells": [
  {
   "cell_type": "code",
   "execution_count": 2,
   "id": "8e504afa",
   "metadata": {},
   "outputs": [],
   "source": [
    "import os,sys\n",
    "from dotenv import find_dotenv,load_dotenv\n",
    "load_dotenv(find_dotenv())\n",
    "src_path = os.environ.get('PROJECT_SRC')\n",
    "os.chdir(src_path)"
   ]
  },
  {
   "cell_type": "code",
   "execution_count": 3,
   "id": "07ea55e4",
   "metadata": {},
   "outputs": [],
   "source": [
    "import matplotlib.pyplot as plt\n",
    "plt.rcParams.update({'font.size': 22})\n",
    "plt.style.use('ggplot')\n",
    "import pandas as pd\n",
    "import numpy as np\n",
    "import cartopy.crs as ccrs\n",
    "import cartopy.feature\n"
   ]
  },
  {
   "cell_type": "markdown",
   "id": "9f37c933",
   "metadata": {},
   "source": [
    "In this notebook, we performed the scalling of the fututre energy scenario load data by subtracting the heat pump profile."
   ]
  },
  {
   "cell_type": "code",
   "execution_count": 4,
   "id": "22f5fab5",
   "metadata": {},
   "outputs": [],
   "source": [
    "fes_year='2022'"
   ]
  },
  {
   "cell_type": "code",
   "execution_count": null,
   "id": "1693ac6b",
   "metadata": {},
   "outputs": [],
   "source": [
    "\n",
    "if fes_year=='2016':\n",
    "    hp_profile=pd.read_csv('data/Scaling_FES_Demand/Historical Years/hploads-p_set.csv',index_col=0)\n",
    "    total_profile=pd.read_csv('data/Scaling_FES_Demand/Historical Years/totalloads-p_set.csv',index_col=0)\n",
    "    df_fes_load=pd.read_csv('data/Scaling_FES_Demand/Historical Years/estimated_fes_load.csv',index_col=0)\n",
    "    cop_profile=pd.read_csv('data/Scaling_FES_Demand/Historical Years/links-efficiency.csv',index_col=0)\n",
    "elif fes_year=='2022':\n",
    "    hp_profile=pd.read_csv('data/Scaling_FES_Demand/Future Years/hploads-p_set.csv',index_col=0)\n",
    "    total_profile=pd.read_csv('data/Scaling_FES_Demand/Future Years/totalloads-p_set.csv',index_col=0)\n",
    "    df_fes_load=pd.read_csv('data/Scaling_FES_Demand/Future Years/estimated_fes_load.csv',index_col=0)\n",
    "    cop_profile=pd.read_csv('data/Scaling_FES_Demand/Future Years/links-efficiency.csv',index_col=0)\n",
    "    \n"
   ]
  },
  {
   "cell_type": "code",
   "execution_count": null,
   "id": "81b706b4",
   "metadata": {},
   "outputs": [],
   "source": [
    "total_profile"
   ]
  },
  {
   "cell_type": "code",
   "execution_count": null,
   "id": "0e31b596",
   "metadata": {},
   "outputs": [],
   "source": [
    "electrifiedheat=hp_profile/cop_profile\n",
    "electrifiedheat"
   ]
  },
  {
   "cell_type": "code",
   "execution_count": null,
   "id": "3e28a70e",
   "metadata": {
    "scrolled": true
   },
   "outputs": [],
   "source": [
    "\n",
    "df_fes_load"
   ]
  },
  {
   "cell_type": "code",
   "execution_count": null,
   "id": "07dd2524",
   "metadata": {},
   "outputs": [],
   "source": [
    "total_profile\n",
    "electrifiedheat"
   ]
  },
  {
   "cell_type": "code",
   "execution_count": null,
   "id": "f1322b91",
   "metadata": {},
   "outputs": [],
   "source": [
    "scaled_load=total_profile-electrifiedheat\n",
    "\n",
    "#df_fes_load=pd.read_csv('data/Scaling_FES_Demand/estimated_fes_load.csv',index_col=0)\n",
    "\n",
    "cols=electrifiedheat.columns.tolist()\n",
    "for i in cols:\n",
    "    df_fes_load[i]=scaled_load[i]"
   ]
  },
  {
   "cell_type": "code",
   "execution_count": null,
   "id": "2005d092",
   "metadata": {},
   "outputs": [],
   "source": [
    "df_fes_load['Beauly']\n",
    "scaled_load['Beauly']"
   ]
  },
  {
   "cell_type": "code",
   "execution_count": null,
   "id": "4bd1057a",
   "metadata": {},
   "outputs": [],
   "source": [
    "#write the csv file \n",
    "if fes_year=='2016':\n",
    "    df_fes_load.to_csv('data/Scaling_FES_Demand/Historical Years/loads-p_set.csv')\n",
    "elif fes_year=='2022':\n",
    "    df_fes_load.to_csv('data/Scaling_FES_Demand/Future Years/loads-p_set.csv')"
   ]
  },
  {
   "cell_type": "markdown",
   "id": "5691b1ed",
   "metadata": {},
   "source": [
    "# Aggregate heating demand\n"
   ]
  },
  {
   "cell_type": "code",
   "execution_count": null,
   "id": "83a575b9",
   "metadata": {},
   "outputs": [],
   "source": [
    "hp_profile=pd.read_csv('data/Scaling_FES_Demand/total heating/hourly heat demand total_withHPs_MW.csv',index_col=0)\n",
    "dhn_profile=pd.read_csv('data/Scaling_FES_Demand/total heating/hourly heat demand total_withDHN_MW.csv',index_col=0)\n",
    "boiler_profile=pd.read_csv('data/Scaling_FES_Demand/total heating/hourly heat demand total_withGasboilers_MW.csv',index_col=0)"
   ]
  },
  {
   "cell_type": "code",
   "execution_count": null,
   "id": "3dd91d5b",
   "metadata": {},
   "outputs": [],
   "source": [
    "aggregate_total_domestic_heating=hp_profile+dhn_profile+boiler_profile\n",
    "aggregate_total_domestic_heating.to_csv('data/Scaling_FES_Demand//total heating/aggregate total domestic heating.csv')"
   ]
  },
  {
   "cell_type": "code",
   "execution_count": null,
   "id": "6ef10f49",
   "metadata": {},
   "outputs": [],
   "source": [
    "\n",
    "aggregate_total_domestic_heating"
   ]
  },
  {
   "cell_type": "code",
   "execution_count": null,
   "id": "c99501b6",
   "metadata": {},
   "outputs": [],
   "source": []
  },
  {
   "cell_type": "code",
   "execution_count": null,
   "id": "e8c13d10",
   "metadata": {},
   "outputs": [],
   "source": []
  }
 ],
 "metadata": {
  "kernelspec": {
   "display_name": "REMA",
   "language": "python",
   "name": "rema"
  },
  "language_info": {
   "codemirror_mode": {
    "name": "ipython",
    "version": 3
   },
   "file_extension": ".py",
   "mimetype": "text/x-python",
   "name": "python",
   "nbconvert_exporter": "python",
   "pygments_lexer": "ipython3",
   "version": "3.8.5"
  }
 },
 "nbformat": 4,
 "nbformat_minor": 5
}
